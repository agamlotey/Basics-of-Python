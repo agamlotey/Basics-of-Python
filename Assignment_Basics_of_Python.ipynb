{
  "nbformat": 4,
  "nbformat_minor": 0,
  "metadata": {
    "colab": {
      "provenance": [],
      "authorship_tag": "ABX9TyMJbX3Qko64K3kFvogQh6jc",
      "include_colab_link": true
    },
    "kernelspec": {
      "name": "python3",
      "display_name": "Python 3"
    },
    "language_info": {
      "name": "python"
    }
  },
  "cells": [
    {
      "cell_type": "markdown",
      "metadata": {
        "id": "view-in-github",
        "colab_type": "text"
      },
      "source": [
        "<a href=\"https://colab.research.google.com/github/agamlotey/Basics-of-Python/blob/main/Assignment_Basics_of_Python.ipynb\" target=\"_parent\"><img src=\"https://colab.research.google.com/assets/colab-badge.svg\" alt=\"Open In Colab\"/></a>"
      ]
    },
    {
      "cell_type": "code",
      "execution_count": 21,
      "metadata": {
        "colab": {
          "base_uri": "https://localhost:8080/",
          "height": 394
        },
        "id": "iKb9bJMUdwWG",
        "outputId": "38ffcbc0-50ca-49ea-89af-45fe0b7948e2"
      },
      "outputs": [
        {
          "output_type": "stream",
          "name": "stdout",
          "text": [
            "[11, 12, 13, 14, 50, 60]\n",
            "[12, 14, 50, 60]\n",
            "[12, 14, 50, 60]\n",
            "[60, 50, 14, 12]\n",
            "13 is not present in the list\n",
            "The number of elements present in the list are  4\n",
            "The sum of all the values in the list is 136\n",
            "The sum of all odd numbers in the list is 0\n",
            "The sum of all odd numbers in the list is 136\n",
            "The prime numbers in the list are []\n",
            "[]\n"
          ]
        },
        {
          "output_type": "error",
          "ename": "NameError",
          "evalue": "name 'L' is not defined",
          "traceback": [
            "\u001b[0;31m---------------------------------------------------------------------------\u001b[0m",
            "\u001b[0;31mNameError\u001b[0m                                 Traceback (most recent call last)",
            "\u001b[0;32m<ipython-input-21-962753494>\u001b[0m in \u001b[0;36m<cell line: 0>\u001b[0;34m()\u001b[0m\n\u001b[1;32m     52\u001b[0m \u001b[0;31m###(Xii)\u001b[0m\u001b[0;34m\u001b[0m\u001b[0;34m\u001b[0m\u001b[0m\n\u001b[1;32m     53\u001b[0m \u001b[0;32mdel\u001b[0m \u001b[0;34m(\u001b[0m\u001b[0mL\u001b[0m\u001b[0;34m)\u001b[0m\u001b[0;34m\u001b[0m\u001b[0;34m\u001b[0m\u001b[0m\n\u001b[0;32m---> 54\u001b[0;31m \u001b[0mprint\u001b[0m\u001b[0;34m(\u001b[0m\u001b[0mL\u001b[0m\u001b[0;34m)\u001b[0m\u001b[0;34m\u001b[0m\u001b[0;34m\u001b[0m\u001b[0m\n\u001b[0m\u001b[1;32m     55\u001b[0m \u001b[0;34m\u001b[0m\u001b[0m\n",
            "\u001b[0;31mNameError\u001b[0m: name 'L' is not defined"
          ]
        }
      ],
      "source": [
        "# Question 1:\n",
        "# (i)\n",
        "L=[11,12,13,14]\n",
        "L.append(50)\n",
        "L.append(60)\n",
        "print(L)\n",
        "# (ii)\n",
        "L.remove(11)\n",
        "L.remove(13)\n",
        "print(L)\n",
        "# (iii)\n",
        "L.sort()\n",
        "print(L)\n",
        "# (iv)\n",
        "L.sort(reverse=True)\n",
        "print(L)\n",
        "# (v)\n",
        "if 13 in L:\n",
        "  print(\"13 is present in the list\")\n",
        "else:\n",
        "  print(\"13 is not present in the list\")\n",
        "# (vi)\n",
        "print(\"The number of elements present in the list are \",len(L))\n",
        "# (vii)\n",
        "print(\"The sum of all the values in the list is\",sum(L))\n",
        "# (viii)\n",
        "L1=[]\n",
        "for i in L:\n",
        "  if(i%2!=0):\n",
        "    L1.append(i)\n",
        "print(\"The sum of all odd numbers in the list is\",sum(L1))\n",
        "# (ix)\n",
        "L2=[]\n",
        "for i in L:\n",
        "  if(i%2==0):\n",
        "    L2.append(i)\n",
        "print(\"The sum of all odd numbers in the list is\",sum(L2))\n",
        "# (x)\n",
        "L3=[]\n",
        "for num in L:\n",
        "  if num<2:\n",
        "    continue\n",
        "  for i in range(2,num):\n",
        "    if(num%i==0):\n",
        "      break\n",
        "    else:\n",
        "      L3.append(num)\n",
        "print(\"The prime numbers in the list are\",L3)\n",
        "# (xi)\n",
        "L.clear()\n",
        "print(L)\n",
        "# (Xii)\n",
        "del (L)\n",
        "print(L)\n",
        "\n"
      ]
    },
    {
      "cell_type": "code",
      "source": [
        "# Question 2:\n",
        "D = {1: 5.6, 2: 7.8, 3: 6.6, 4: 8.7, 5: 7.7}\n",
        "# (i)\n",
        "D[8] = 8.8\n",
        "print(D)\n",
        "# (ii)\n",
        "D.pop(2)\n",
        "print(D)\n",
        "# (iii)\n",
        "print(\"Key 6 present in D?\" , 6 in D)\n",
        "# (iv)\n",
        "print(\"Number of elements in D:\", len(D))\n",
        "# (v)\n",
        "print(\"Sum of all values in D:\", sum(D.values()))\n",
        "# (vi)\n",
        "D[3] = 7.1\n",
        "print(D)\n",
        "# (vii)\n",
        "D.clear()\n",
        "print(D)\n",
        "print(\"Final dictionary D:\", D)"
      ],
      "metadata": {
        "colab": {
          "base_uri": "https://localhost:8080/"
        },
        "id": "HBpr8fsWotyd",
        "outputId": "f6720b0b-48ca-4211-e06d-30bb18621797"
      },
      "execution_count": 22,
      "outputs": [
        {
          "output_type": "stream",
          "name": "stdout",
          "text": [
            "{1: 5.6, 2: 7.8, 3: 6.6, 4: 8.7, 5: 7.7, 8: 8.8}\n",
            "{1: 5.6, 3: 6.6, 4: 8.7, 5: 7.7, 8: 8.8}\n",
            "Key 6 present in D? False\n",
            "Number of elements in D: 5\n",
            "Sum of all values in D: 37.4\n",
            "{1: 5.6, 3: 7.1, 4: 8.7, 5: 7.7, 8: 8.8}\n",
            "{}\n",
            "Final dictionary D: {}\n"
          ]
        }
      ]
    },
    {
      "cell_type": "code",
      "source": [
        "# Question 3:\n",
        "S1 = {10, 20, 30, 40, 50, 60}\n",
        "S2 = {40, 50, 60, 70, 80, 90}\n",
        "# (i)\n",
        "S1.add(55)\n",
        "S1.add(66)\n",
        "print(S1)\n",
        "# (ii)\n",
        "S1.remove(10)\n",
        "S1.remove(30)\n",
        "print(S1)\n",
        "# (iii)\n",
        "print(\"Union of S1 and S2:\", S1.union(S2))\n",
        "# (iv)\n",
        "print(\"Intersection of S1 and S2:\", S1.intersection(S2))\n",
        "# (v)\n",
        "print(\"Difference of S1 and S2:\", S1.difference(S2))"
      ],
      "metadata": {
        "colab": {
          "base_uri": "https://localhost:8080/"
        },
        "id": "0aW5sxy4t2mN",
        "outputId": "9d03de96-5075-47ca-a256-d5accee66e92"
      },
      "execution_count": 23,
      "outputs": [
        {
          "output_type": "stream",
          "name": "stdout",
          "text": [
            "{50, 66, 20, 55, 40, 10, 60, 30}\n",
            "{50, 66, 20, 55, 40, 60}\n",
            "Union of S1 and S2: {66, 70, 40, 80, 50, 20, 55, 90, 60}\n",
            "Intersection of S1 and S2: {40, 50, 60}\n",
            "Difference of S1 and S2: {66, 20, 55}\n"
          ]
        }
      ]
    },
    {
      "cell_type": "code",
      "source": [
        "# Question 4:\n",
        "# (i)\n",
        "import string as s\n",
        "import random as r\n",
        "spch=\"#@!~%^&*()_+=-[]{}|\"\n",
        "for _ in range (100):\n",
        "  l=r.randint(6,8)\n",
        "  randstr= \"\".join(r.sample(spch + s.ascii_letters + s.digits,l))\n",
        "  print(randstr)"
      ],
      "metadata": {
        "colab": {
          "base_uri": "https://localhost:8080/"
        },
        "id": "EUjikYH_uWTY",
        "outputId": "a593f8b6-0369-4005-8512-2a0c54712f12"
      },
      "execution_count": 26,
      "outputs": [
        {
          "output_type": "stream",
          "name": "stdout",
          "text": [
            "ke_(Ff-\n",
            "95H)zP@i\n",
            "#XjQMl\n",
            "lG^qRFwD\n",
            "-7TW}[x\n",
            "t[ARqf\n",
            "}M5tX=j\n",
            "m@p#(Rc+\n",
            "Kz1lIAx\n",
            "|D{kdW#v\n",
            "W]k5_HAZ\n",
            "f9-mS)_t\n",
            "L*_}kZ\n",
            ")N(+s2\n",
            ")-JF!pIs\n",
            "zo+du-5\n",
            "dH[!Kbt\n",
            "klhqRiZ\n",
            "3onaZ|]\n",
            "|n&EBR\n",
            "iB0jWx][\n",
            "MsX+}-f\n",
            "CdG4|!\n",
            "9xjC%B{\n",
            "~AJr0i[\n",
            "WSsC)|\n",
            "]25CdL\n",
            "XKfMdskL\n",
            "_bEI7x\n",
            "I&erL7\n",
            "_Pd!on}Q\n",
            "Gb27Dp=\n",
            "&2i-gYG7\n",
            "l#oU@*b\n",
            "V1R!i=\n",
            "k2z-_1\n",
            "Wz)(rXt2\n",
            "SKzv%ui\n",
            "z9aWQeFk\n",
            "b&dcpI)P\n",
            "XTj!Qk#\n",
            "Gl{fz05s\n",
            "ughbT3*z\n",
            "&CLv(Ak~\n",
            "lCtw#y\n",
            "VdLxD}b5\n",
            "L=HqB{Eu\n",
            "8Jg@iWx\n",
            "}Ut{Pbz_\n",
            "Eaxf=m{!\n",
            "eI6KGf5\n",
            "USxb=&DL\n",
            "76@l]*&u\n",
            "QTGO&W=8\n",
            "MCO#[|W\n",
            "ripxATmv\n",
            "0~@3mOt7\n",
            "~l2SqAP{\n",
            "R739cG\n",
            "VGADE%K\n",
            "&KLI[dM|\n",
            "f2SKU&tb\n",
            "*pX@2ORv\n",
            "V-OQAYI\n",
            "u}Vzfw\n",
            "zfDVm]i{\n",
            "GlSDP4%\n",
            "6&eXPpTU\n",
            "LR2xZ@M\n",
            "V_STIj\n",
            "k%siXFuI\n",
            "SA94ilx%\n",
            ")o3isTWm\n",
            "hU!*69(\n",
            "UhMf_O&\n",
            "yugk[M\n",
            "j*C{#!IL\n",
            "utmxoX*#\n",
            "%3AXeo9\n",
            "fwKmnPaH\n",
            "}C^B&s1\n",
            "GT!skfb\n",
            "kaY[bdK\n",
            "QT*X9(%\n",
            "yU6cEIq\n",
            "_I+Mm]}\n",
            "eVNzvo\n",
            "oBSn*U\n",
            "~=N8K96_\n",
            "PZ~{kA\n",
            "mrQA9E+\n",
            "C873]zVu\n",
            "1jasc*6\n",
            "iNvz2h!T\n",
            "pnH~[G\n",
            "#[DQJhfg\n",
            "yld[7t\n",
            "f0_J1F@\n",
            "2m]6}OcH\n",
            "wN}~xz\n"
          ]
        }
      ]
    },
    {
      "cell_type": "code",
      "source": [
        "# Question 4:\n",
        "# (ii)\n",
        "for num in range(600, 801):\n",
        "    if num < 2:\n",
        "        continue\n",
        "    for i in range(2, int(num//2 + 1)):\n",
        "        if num % i == 0:\n",
        "            break\n",
        "    else:\n",
        "        print(num)\n"
      ],
      "metadata": {
        "colab": {
          "base_uri": "https://localhost:8080/"
        },
        "id": "YrtZMGpvxpkR",
        "outputId": "0030306d-3c0c-48db-8d4c-600eb0ceefb7"
      },
      "execution_count": 27,
      "outputs": [
        {
          "output_type": "stream",
          "name": "stdout",
          "text": [
            "601\n",
            "607\n",
            "613\n",
            "617\n",
            "619\n",
            "631\n",
            "641\n",
            "643\n",
            "647\n",
            "653\n",
            "659\n",
            "661\n",
            "673\n",
            "677\n",
            "683\n",
            "691\n",
            "701\n",
            "709\n",
            "719\n",
            "727\n",
            "733\n",
            "739\n",
            "743\n",
            "751\n",
            "757\n",
            "761\n",
            "769\n",
            "773\n",
            "787\n",
            "797\n"
          ]
        }
      ]
    },
    {
      "cell_type": "code",
      "source": [
        "# Question 4:\n",
        "# (iii)\n",
        "for num in range(100, 1001):\n",
        "    if (num%7==0 and num%9==0):\n",
        "        print(num)"
      ],
      "metadata": {
        "colab": {
          "base_uri": "https://localhost:8080/"
        },
        "id": "lpWs8e28yEWH",
        "outputId": "ffc59503-8db6-4a62-a6c7-329e08ddd311"
      },
      "execution_count": 28,
      "outputs": [
        {
          "output_type": "stream",
          "name": "stdout",
          "text": [
            "126\n",
            "189\n",
            "252\n",
            "315\n",
            "378\n",
            "441\n",
            "504\n",
            "567\n",
            "630\n",
            "693\n",
            "756\n",
            "819\n",
            "882\n",
            "945\n"
          ]
        }
      ]
    },
    {
      "cell_type": "code",
      "source": [
        "# Question 5:\n",
        "import random\n",
        "L1=[]\n",
        "L2=[]\n",
        "for i in range(10):\n",
        "  L1.append(random.randint(10, 30))\n",
        "for i in range(10):\n",
        "  L2.append(random.randint(10, 30))\n",
        "print(\"List 1:\", L1)\n",
        "print(\"List 2:\", L2)\n",
        "# (i)\n",
        "common = list(set(L1).intersection(set(L2)))\n",
        "print(\"Common numbers:\", common)\n",
        "# (ii)\n",
        "uL1 = list(set(L1) - set(L2))\n",
        "uL2 = list(set(L2) - set(L1))\n",
        "print(\"Unique in List 1:\", uL1)\n",
        "print(\"Unique in List 2:\", uL2)\n",
        "# (iii)\n",
        "print(\"Minimum in List 1:\", min(L1))\n",
        "print(\"Minimum in List 2:\", min(L2))\n",
        "# (iv)\n",
        "print(\"Maximum in List 1:\", max(L1))\n",
        "print(\"Maximum in List 2:\", max(L2))\n",
        "# (v)\n",
        "print(\"Sum of List 1:\", sum(L1))\n",
        "print(\"Sum of List 2:\", sum(L2))\n"
      ],
      "metadata": {
        "colab": {
          "base_uri": "https://localhost:8080/"
        },
        "id": "h6F3AoE5y7Pb",
        "outputId": "11ade1c4-d187-4973-d45c-f31c411f4a1e"
      },
      "execution_count": 31,
      "outputs": [
        {
          "output_type": "stream",
          "name": "stdout",
          "text": [
            "List 1: [26, 27, 16, 29, 12, 17, 18, 13, 29, 21]\n",
            "List 2: [25, 12, 20, 29, 12, 13, 28, 12, 23, 25]\n",
            "Common numbers: [29, 12, 13]\n",
            "Unique in List 1: [16, 17, 18, 21, 26, 27]\n",
            "Unique in List 2: [25, 20, 28, 23]\n",
            "Minimum in List 1: 12\n",
            "Minimum in List 2: 12\n",
            "Maximum in List 1: 29\n",
            "Maximum in List 2: 29\n",
            "Sum of List 1: 208\n",
            "Sum of List 2: 199\n"
          ]
        }
      ]
    },
    {
      "cell_type": "code",
      "source": [
        "# Question 6:\n",
        "# (i)\n",
        "L1=[]\n",
        "L2=[]\n",
        "L3=[]\n",
        "print(\"Even numbers: \")\n",
        "for i in range(100,901):\n",
        "  if(i%2==0):\n",
        "    L1.append(i)\n",
        "print(L1)\n",
        "# (ii)\n",
        "print(\"Odd numbers: \")\n",
        "for i in range(100,901):\n",
        "  if(i%2!=0):\n",
        "    L2.append(i)\n",
        "print(L2)\n",
        "# (iii)\n",
        "print(\"Prime numbers: \")\n",
        "for num in range(100, 901):\n",
        "  if num < 2:\n",
        "    continue\n",
        "  for i in range(2, int(num//2 + 1)):\n",
        "    if num % i == 0:\n",
        "      break\n",
        "  else:\n",
        "    L3.append(num)\n",
        "print(L3)"
      ],
      "metadata": {
        "colab": {
          "base_uri": "https://localhost:8080/"
        },
        "id": "B3wpjmUs2Qds",
        "outputId": "cbfe15c3-4fee-4a01-eca5-ef65333d4043"
      },
      "execution_count": 40,
      "outputs": [
        {
          "output_type": "stream",
          "name": "stdout",
          "text": [
            "Even numbers: \n",
            "[100, 102, 104, 106, 108, 110, 112, 114, 116, 118, 120, 122, 124, 126, 128, 130, 132, 134, 136, 138, 140, 142, 144, 146, 148, 150, 152, 154, 156, 158, 160, 162, 164, 166, 168, 170, 172, 174, 176, 178, 180, 182, 184, 186, 188, 190, 192, 194, 196, 198, 200, 202, 204, 206, 208, 210, 212, 214, 216, 218, 220, 222, 224, 226, 228, 230, 232, 234, 236, 238, 240, 242, 244, 246, 248, 250, 252, 254, 256, 258, 260, 262, 264, 266, 268, 270, 272, 274, 276, 278, 280, 282, 284, 286, 288, 290, 292, 294, 296, 298, 300, 302, 304, 306, 308, 310, 312, 314, 316, 318, 320, 322, 324, 326, 328, 330, 332, 334, 336, 338, 340, 342, 344, 346, 348, 350, 352, 354, 356, 358, 360, 362, 364, 366, 368, 370, 372, 374, 376, 378, 380, 382, 384, 386, 388, 390, 392, 394, 396, 398, 400, 402, 404, 406, 408, 410, 412, 414, 416, 418, 420, 422, 424, 426, 428, 430, 432, 434, 436, 438, 440, 442, 444, 446, 448, 450, 452, 454, 456, 458, 460, 462, 464, 466, 468, 470, 472, 474, 476, 478, 480, 482, 484, 486, 488, 490, 492, 494, 496, 498, 500, 502, 504, 506, 508, 510, 512, 514, 516, 518, 520, 522, 524, 526, 528, 530, 532, 534, 536, 538, 540, 542, 544, 546, 548, 550, 552, 554, 556, 558, 560, 562, 564, 566, 568, 570, 572, 574, 576, 578, 580, 582, 584, 586, 588, 590, 592, 594, 596, 598, 600, 602, 604, 606, 608, 610, 612, 614, 616, 618, 620, 622, 624, 626, 628, 630, 632, 634, 636, 638, 640, 642, 644, 646, 648, 650, 652, 654, 656, 658, 660, 662, 664, 666, 668, 670, 672, 674, 676, 678, 680, 682, 684, 686, 688, 690, 692, 694, 696, 698, 700, 702, 704, 706, 708, 710, 712, 714, 716, 718, 720, 722, 724, 726, 728, 730, 732, 734, 736, 738, 740, 742, 744, 746, 748, 750, 752, 754, 756, 758, 760, 762, 764, 766, 768, 770, 772, 774, 776, 778, 780, 782, 784, 786, 788, 790, 792, 794, 796, 798, 800, 802, 804, 806, 808, 810, 812, 814, 816, 818, 820, 822, 824, 826, 828, 830, 832, 834, 836, 838, 840, 842, 844, 846, 848, 850, 852, 854, 856, 858, 860, 862, 864, 866, 868, 870, 872, 874, 876, 878, 880, 882, 884, 886, 888, 890, 892, 894, 896, 898, 900]\n",
            "Odd numbers: \n",
            "[101, 103, 105, 107, 109, 111, 113, 115, 117, 119, 121, 123, 125, 127, 129, 131, 133, 135, 137, 139, 141, 143, 145, 147, 149, 151, 153, 155, 157, 159, 161, 163, 165, 167, 169, 171, 173, 175, 177, 179, 181, 183, 185, 187, 189, 191, 193, 195, 197, 199, 201, 203, 205, 207, 209, 211, 213, 215, 217, 219, 221, 223, 225, 227, 229, 231, 233, 235, 237, 239, 241, 243, 245, 247, 249, 251, 253, 255, 257, 259, 261, 263, 265, 267, 269, 271, 273, 275, 277, 279, 281, 283, 285, 287, 289, 291, 293, 295, 297, 299, 301, 303, 305, 307, 309, 311, 313, 315, 317, 319, 321, 323, 325, 327, 329, 331, 333, 335, 337, 339, 341, 343, 345, 347, 349, 351, 353, 355, 357, 359, 361, 363, 365, 367, 369, 371, 373, 375, 377, 379, 381, 383, 385, 387, 389, 391, 393, 395, 397, 399, 401, 403, 405, 407, 409, 411, 413, 415, 417, 419, 421, 423, 425, 427, 429, 431, 433, 435, 437, 439, 441, 443, 445, 447, 449, 451, 453, 455, 457, 459, 461, 463, 465, 467, 469, 471, 473, 475, 477, 479, 481, 483, 485, 487, 489, 491, 493, 495, 497, 499, 501, 503, 505, 507, 509, 511, 513, 515, 517, 519, 521, 523, 525, 527, 529, 531, 533, 535, 537, 539, 541, 543, 545, 547, 549, 551, 553, 555, 557, 559, 561, 563, 565, 567, 569, 571, 573, 575, 577, 579, 581, 583, 585, 587, 589, 591, 593, 595, 597, 599, 601, 603, 605, 607, 609, 611, 613, 615, 617, 619, 621, 623, 625, 627, 629, 631, 633, 635, 637, 639, 641, 643, 645, 647, 649, 651, 653, 655, 657, 659, 661, 663, 665, 667, 669, 671, 673, 675, 677, 679, 681, 683, 685, 687, 689, 691, 693, 695, 697, 699, 701, 703, 705, 707, 709, 711, 713, 715, 717, 719, 721, 723, 725, 727, 729, 731, 733, 735, 737, 739, 741, 743, 745, 747, 749, 751, 753, 755, 757, 759, 761, 763, 765, 767, 769, 771, 773, 775, 777, 779, 781, 783, 785, 787, 789, 791, 793, 795, 797, 799, 801, 803, 805, 807, 809, 811, 813, 815, 817, 819, 821, 823, 825, 827, 829, 831, 833, 835, 837, 839, 841, 843, 845, 847, 849, 851, 853, 855, 857, 859, 861, 863, 865, 867, 869, 871, 873, 875, 877, 879, 881, 883, 885, 887, 889, 891, 893, 895, 897, 899]\n",
            "Prime numbers: \n",
            "[101, 103, 107, 109, 113, 127, 131, 137, 139, 149, 151, 157, 163, 167, 173, 179, 181, 191, 193, 197, 199, 211, 223, 227, 229, 233, 239, 241, 251, 257, 263, 269, 271, 277, 281, 283, 293, 307, 311, 313, 317, 331, 337, 347, 349, 353, 359, 367, 373, 379, 383, 389, 397, 401, 409, 419, 421, 431, 433, 439, 443, 449, 457, 461, 463, 467, 479, 487, 491, 499, 503, 509, 521, 523, 541, 547, 557, 563, 569, 571, 577, 587, 593, 599, 601, 607, 613, 617, 619, 631, 641, 643, 647, 653, 659, 661, 673, 677, 683, 691, 701, 709, 719, 727, 733, 739, 743, 751, 757, 761, 769, 773, 787, 797, 809, 811, 821, 823, 827, 829, 839, 853, 857, 859, 863, 877, 881, 883, 887]\n"
          ]
        }
      ]
    },
    {
      "cell_type": "code",
      "source": [
        "# Question 7:\n",
        "D = {1: \"One\", 2: \"Two\", 3: \"Three\", 4: \"Four\", 5: \"Five\"}\n",
        "\n",
        "with open(\"file.txt\", \"w\") as file:\n",
        "    for i, j in D.items():\n",
        "        file.write(f\"{i}, {j}\\n\")\n",
        "\n",
        "print(\"Dictionary written to 'file.txt' successfully.\")"
      ],
      "metadata": {
        "colab": {
          "base_uri": "https://localhost:8080/"
        },
        "id": "ad46iVO83aOF",
        "outputId": "1e0ff170-7a52-4a1a-ddb6-b608876b4818"
      },
      "execution_count": 42,
      "outputs": [
        {
          "output_type": "stream",
          "name": "stdout",
          "text": [
            "Dictionary written to 'file.txt' successfully.\n"
          ]
        }
      ]
    },
    {
      "cell_type": "code",
      "source": [
        "# Question 8:\n",
        "L = [\"One\", \"Two\", \"Three\", \"Four\", \"Five\"]\n",
        "\n",
        "with open(\"len.txt\", \"w\") as file:\n",
        "    for i in L:\n",
        "        file.write(f\"{i}, {len(i)}\\n\")\n",
        "\n",
        "print(\"Lengths written to 'len.txt'.\")\n"
      ],
      "metadata": {
        "colab": {
          "base_uri": "https://localhost:8080/"
        },
        "id": "YBKr2tqg6Wa3",
        "outputId": "edb85cb9-349f-4ae8-e1f6-cb3a94793d2c"
      },
      "execution_count": 43,
      "outputs": [
        {
          "output_type": "stream",
          "name": "stdout",
          "text": [
            "Lengths written to 'len.txt'.\n"
          ]
        }
      ]
    },
    {
      "cell_type": "code",
      "source": [
        "# Question 9:\n",
        "import string as s\n",
        "import random as r\n",
        "L=[]\n",
        "spch=\"#@!~%^&*()_+=-[]{}|\"\n",
        "for _ in range (100):\n",
        "  l=r.randint(10,15)\n",
        "  randstr= \"\".join(r.sample(spch + s.ascii_letters + s.digits,l))\n",
        "  L.append(randstr)\n",
        "print(L)"
      ],
      "metadata": {
        "colab": {
          "base_uri": "https://localhost:8080/"
        },
        "id": "6J0iSPBl6v54",
        "outputId": "00f74cd5-f073-4c12-8a0e-93bebf84fc85"
      },
      "execution_count": 44,
      "outputs": [
        {
          "output_type": "stream",
          "name": "stdout",
          "text": [
            "['rHnuQ+z#qGb*6=R', 'rfQsBoLm1+U~y', 'Q7nTxg1L%2R_MU', 'KsFqWagi-4', '[&IFUmtRlSy@', 'et^usO)L#hp8[', 'mr-Yz|}H2w', 'e5@HLb[7*YXF]En', 'AMJp|#)P_(l', '|4_DZb&VBPs(-Y]', 'edku@VBGIY-', 'mD@{QYe)yI#Z', '4n&1iZb=rI', '0YgEZxa|As#R', 'D%8CO^}xFiNve9V', 'S4]%9EBUJ~Wj^z', '_y-~4S*VJ6emuq+', '+P&NV8tgW30da', 'NHYu(n_D@L', 'u1c3s!B+aD', '-*y1^Q&jwd', '{]8|MlBwuJ_TU', 'x1A82bi~CeOBD', '@Hd4DX-i)s(5j+N', 'sn-Kv@{0uc9r]', 'Cf8b6BGF-&', '#wTy2m=W(3P*b', '06[w1=fVEguv~WG', 'v_81dlBS5E+jPw*', '4hyK{J|R9d@', '+~U|*XMedK59', 'Xd+woe{BzILjtl#', 'ufQcq^Jp7=_', 'xTq8jAkOBw6y', 'I5E6!T4bt#h7', '9gZ3ENm#kq5U7', 'P7W@n3ud8F[', 'pD^gPQvs(-', 'QBxpcd&Y]H!l-Lb', ']xsK)+c[Ldtgf-', 'EezG^%hbdr3Nl*', '6I]&eA[Yq!', 'VfZNbC~ue64', 'r)p&UJ}_0Y3]1jm', '@AeVG(vk19tLZ', 'x(QM5h[u@TJbvaj', 'U)ep0cwR_QS4BN', 'TkWu-)d#e[o', 'uM~ts2f]%j=5#9x', 'NFXg1@W!O%5', 'Awe}hc_ExBvoDb', 'S[spMY6hj4D', '~BEq)0ai7Ad|N', '~P9RTI4ybua', 'wAWKU+k-(PuJ', 'CgPbiVU3R9w+&n', 'lJMOW4f#k_yg{j&', '8|CFJ41S=5l0', 'hk758y*|]QJm', 'Ar0|(L4Bi}j', '0E&gsif%dU', 'Nwm{&yKg-i', 'P0_a6#g%2=*mn', 'RVMI@Gs}H=FS_m', '@pkjYs}i]JKUBW', 'H@c|6wP9g)r}v', 'CNb4rp%PnXwH', 'LxsV7e(HKfFqd', 'psaxX@Flr6', 'gHZ=)}8A#E(', 'Cyvcp1[~|rVd^', 'BEfxVU_Cd+(', '!SvT{BK85_', 'ym%f-2E}DU7', 'iw@b=(ENplt', 'W6[JYN2)TP@y', 'CkQKj7%xVdfY9O', 'koE~[}BHGui!=q', 'e1Wm+[K*Ub5u-', 'fvXNV%ch[3L', '~qROvPS%fDgdY2G', '-0IQdhJ4|lRKs', '#c6-ZkhoKb', 'O-hyd*kBm=4', ')seW}lP0HuQc61T', '+X2GLxm&Qz', '8sC_+A9{Wa%fG#', '*%KmATQL6doj', 'I7FaL06*ky~GQ[U', 'n(Xf^9Fc0_t', 'bMVOv|9g4RYx', 'uMRcEdlSps', 'hAO[vIE&8qR+KW', '^1PEfXgS@~', '+-86rC)qliau5', 'cz=5mnF6rL_IDQ-', 'cvV%b^nJNmaBI', 'wPfGZiNBnvy-', 'If@#yhG~M]BWK', 'cuIsbq|h3f{-']\n"
          ]
        }
      ]
    },
    {
      "cell_type": "code",
      "source": [
        "# Question 10:\n",
        "for num in range(600,801):\n",
        "  if(num<2):\n",
        "    continue\n",
        "  for i in range(2,int(num//2+1)):\n",
        "    if(num%i==0):\n",
        "      break\n",
        "  else:\n",
        "    print(num)"
      ],
      "metadata": {
        "colab": {
          "base_uri": "https://localhost:8080/"
        },
        "id": "FCu7IeWg7Ib-",
        "outputId": "255944c7-0275-4dd5-eaf7-db16a4bb6218"
      },
      "execution_count": 53,
      "outputs": [
        {
          "output_type": "stream",
          "name": "stdout",
          "text": [
            "601\n",
            "607\n",
            "613\n",
            "617\n",
            "619\n",
            "631\n",
            "641\n",
            "643\n",
            "647\n",
            "653\n",
            "659\n",
            "661\n",
            "673\n",
            "677\n",
            "683\n",
            "691\n",
            "701\n",
            "709\n",
            "719\n",
            "727\n",
            "733\n",
            "739\n",
            "743\n",
            "751\n",
            "757\n",
            "761\n",
            "769\n",
            "773\n",
            "787\n",
            "797\n"
          ]
        }
      ]
    },
    {
      "cell_type": "code",
      "source": [
        "# Question 11:\n",
        "import time\n",
        "import random\n",
        "numbers = [random.randint(1, 100000) for _ in range(10000)]\n",
        "start_time = time.time()\n",
        "numbers.sort()\n",
        "end_time = time.time()\n",
        "time_taken = end_time - start_time\n",
        "print(f\"Time taken to sort 10,000 numbers: {time_taken:.6f} seconds\")\n"
      ],
      "metadata": {
        "colab": {
          "base_uri": "https://localhost:8080/"
        },
        "id": "gcBT2jgd82CX",
        "outputId": "739d69e9-c6c8-41fe-8afa-709398822976"
      },
      "execution_count": 55,
      "outputs": [
        {
          "output_type": "stream",
          "name": "stdout",
          "text": [
            "Time taken to sort 10,000 numbers: 0.001799 seconds\n"
          ]
        }
      ]
    },
    {
      "cell_type": "code",
      "source": [
        "# Question 12:\n",
        "import time\n",
        "import random\n",
        "import matplotlib.pyplot as plt\n",
        "\n",
        "sizes = [5000, 10000, 15000, 20000, 25000]\n",
        "times = []\n",
        "\n",
        "for size in sizes:\n",
        "    lst = [random.randint(1, 100000) for _ in range(size)]\n",
        "\n",
        "    start = time.time()\n",
        "    lst.sort()\n",
        "    end = time.time()\n",
        "\n",
        "    time_taken = end - start\n",
        "    times.append(time_taken)\n",
        "    print(f\"Time taken to sort {size} elements: {time_taken:.6f} seconds\")\n",
        "\n",
        "plt.plot(sizes, times, marker='o', color='blue')\n",
        "plt.title(\"Sorting Time vs Number of Elements\")\n",
        "plt.xlabel(\"Number of Elements\")\n",
        "plt.ylabel(\"Time Taken (seconds)\")\n",
        "plt.grid(True)\n",
        "plt.show()\n"
      ],
      "metadata": {
        "colab": {
          "base_uri": "https://localhost:8080/",
          "height": 561
        },
        "id": "eRr5VrRs9LQu",
        "outputId": "eb7fec90-6ddd-406e-9cbc-d9109b222e55"
      },
      "execution_count": 56,
      "outputs": [
        {
          "output_type": "stream",
          "name": "stdout",
          "text": [
            "Time taken to sort 5000 elements: 0.000748 seconds\n",
            "Time taken to sort 10000 elements: 0.001943 seconds\n",
            "Time taken to sort 15000 elements: 0.003830 seconds\n",
            "Time taken to sort 20000 elements: 0.003879 seconds\n",
            "Time taken to sort 25000 elements: 0.006631 seconds\n"
          ]
        },
        {
          "output_type": "display_data",
          "data": {
            "text/plain": [
              "<Figure size 640x480 with 1 Axes>"
            ],
            "image/png": "[encoded data removed]"
          },
          "metadata": {}
        }
      ]
    },
    {
      "cell_type": "code",
      "source": [
        "# Question 13:\n",
        "student_marks = {\n",
        "    'A': [85, 78, 92, 88, 76],\n",
        "    'B': [65, 70, 60, 58, 72],\n",
        "    'C': [95, 90, 93, 89, 96],\n",
        "    'D': [55, 60, 58, 62, 59],\n",
        "    'E': [80, 85, 82, 87, 84]\n",
        "}\n",
        "average_marks = {}\n",
        "for student, marks in student_marks.items():\n",
        "    avg = sum(marks) / len(marks)\n",
        "    average_marks[student] = avg\n",
        "\n",
        "max_avg_student = max(average_marks, key=average_marks.get)\n",
        "min_avg_student = min(average_marks, key=average_marks.get)\n",
        "\n",
        "print(f\"Student with maximum average: {max_avg_student} - {average_marks[max_avg_student]:.2f}\")\n",
        "print(f\"Student with minimum average: {min_avg_student} - {average_marks[min_avg_student]:.2f}\")"
      ],
      "metadata": {
        "colab": {
          "base_uri": "https://localhost:8080/"
        },
        "id": "S-PyOzDk9SiE",
        "outputId": "d2800627-10d2-4835-f46a-80cb58cda37f"
      },
      "execution_count": 54,
      "outputs": [
        {
          "output_type": "stream",
          "name": "stdout",
          "text": [
            "Student with maximum average: C - 92.60\n",
            "Student with minimum average: D - 58.80\n"
          ]
        }
      ]
    }
  ]
}